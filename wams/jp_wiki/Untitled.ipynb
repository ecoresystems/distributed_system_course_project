{
 "cells": [
  {
   "cell_type": "code",
   "execution_count": 6,
   "metadata": {},
   "outputs": [],
   "source": [
    "org_file = open(\"text_freq_jp\",'r',encoding = 'utf-8')\n",
    "output_file = open(\"text_freq_jp_out\",'w',encoding='utf-8')\n",
    "counter = 1\n",
    "for row in org_file:\n",
    "    if row.endswith(' \\n'):\n",
    "        pass\n",
    "    else:\n",
    "        if row.endswith('i:1\\n'):\n",
    "            output_file.write('1 i:%d\\n'%counter)\n",
    "            counter +=1\n",
    "        else:\n",
    "            output_file.write(row)"
   ]
  },
  {
   "cell_type": "code",
   "execution_count": null,
   "metadata": {},
   "outputs": [],
   "source": []
  }
 ],
 "metadata": {
  "kernelspec": {
   "display_name": "Python 3",
   "language": "python",
   "name": "python3"
  },
  "language_info": {
   "codemirror_mode": {
    "name": "ipython",
    "version": 3
   },
   "file_extension": ".py",
   "mimetype": "text/x-python",
   "name": "python",
   "nbconvert_exporter": "python",
   "pygments_lexer": "ipython3",
   "version": "3.7.4"
  }
 },
 "nbformat": 4,
 "nbformat_minor": 2
}
